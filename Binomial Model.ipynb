{
 "cells": [
  {
   "cell_type": "markdown",
   "metadata": {},
   "source": [
    "# Binomial Option Pricing Model & Card Game\n",
    "### Juan Diego Herrera\n",
    "\n",
    "The code below showcases the implementation of of the binomial option pricing model for European and American options. The final cells solve a bonus problem of a simple card game:\n",
    "\n",
    "Given a deck of $2n$ red and black cards, each time you draw a black card your payout increases by one; each time you draw a red your payout decreases by one. At any given point in time, what is your current payoff considering that you can always \"cash out\"?"
   ]
  },
  {
   "cell_type": "code",
   "execution_count": 1,
   "metadata": {},
   "outputs": [],
   "source": [
    "import math \n",
    "import matplotlib.pyplot as plt"
   ]
  },
  {
   "cell_type": "markdown",
   "metadata": {},
   "source": [
    "### Code for European option pricing\n",
    "Uses the following:\n",
    "\n",
    "$ u = 1/d = exp(\\sigma \\sqrt{h})$\n",
    "\n",
    "$r = e^{r_cT/n}$ where $T$ is the time in the model and $n$ is the number of steps in the tree"
   ]
  },
  {
   "cell_type": "code",
   "execution_count": 2,
   "metadata": {},
   "outputs": [],
   "source": [
    "def binomialEuro(CallPut, AssetP, K, T, r, vol, N, Div):\n",
    "    \"\"\"\n",
    "    Implements the binomial option pricing model to price a European option\n",
    "    Inputs:\n",
    "            CallPut - True if call, False if Put\n",
    "            AssetP  - Asset price today\n",
    "            K       - Strike price of the option\n",
    "            T       - Time until expiry of the option (years)\n",
    "            r       - Risk-free interest rate\n",
    "            vol     - The volatility of the stock\n",
    "            N       - Number of steps in the model\n",
    "            Div     - Dividend yield of asset \n",
    "    Outputs:\n",
    "        Price of the price of the option\n",
    "    \"\"\"\n",
    "    dt = T/N # h\n",
    "    \n",
    "    b = -1\n",
    "    if CallPut:\n",
    "        b = 1 \n",
    "\n",
    "    u =  math.exp(vol * math.sqrt(dt))\n",
    "    d = 1/u\n",
    "    p = (math.exp((r - Div)*dt) - d) / (u-d)\n",
    "    dF = math.exp(-r *dt) # Discount factor\n",
    "    \n",
    "    C = {}\n",
    "    \n",
    "    # Set up asset movements\n",
    "    for m in range(0, N+1):\n",
    "            St = AssetP * (u**m) * (d**(N - m))\n",
    "            C[(N, m)] = max(b*(St - K), 0)\n",
    "\n",
    "    # Recursive setp\n",
    "    for k in range(N-1, -1, -1):\n",
    "        for m in range(0,k+1):\n",
    "            C[(k, m)] =  (p * C[(k+1, m+1)] + (1-p) * C[(k+1, m)]) * dF\n",
    "    return C[(0,0)]"
   ]
  },
  {
   "cell_type": "markdown",
   "metadata": {},
   "source": [
    "### Code for American option pricing\n",
    "Uses the following:\n",
    "\n",
    "$ u = 1/d = exp(\\sigma \\sqrt{h})$\n",
    "\n",
    "$r = e^{r_cT/n}$ where $T$ is the time in the model and $n$ is the number of steps in the tree"
   ]
  },
  {
   "cell_type": "code",
   "execution_count": 3,
   "metadata": {},
   "outputs": [],
   "source": [
    "def binomialAmerican(CallPut, AssetP, K, T, r, vol, N, Div, rcFlag = False):\n",
    "    \"\"\"\n",
    "    Implements the binomial option pricing model to price a American option\n",
    "    Inputs:\n",
    "            CallPut - True if call, False if Put\n",
    "            AssetP  - Asset price today\n",
    "            K       - Strike price of the option\n",
    "            T       - Time until expiry of the option\n",
    "            r       - Risk-free interest rate\n",
    "            vol     - The volatility of the stock\n",
    "            N       - Number of steps in the model\n",
    "            Div     - Dividend yield of asset \n",
    "    Outputs:\n",
    "            Price of the price of the option\n",
    "    \"\"\"\n",
    "    dt = T/N #h\n",
    "    \n",
    "    b = -1\n",
    "    if CallPut:\n",
    "        b = 1 \n",
    "\n",
    "    u =  math.exp(vol * math.sqrt(dt))\n",
    "    d = 1/u\n",
    "    p = (math.exp((r - Div)*dt) - d) / (u-d)\n",
    "    dF = math.exp(-r *dt) # Discount factor\n",
    "    \n",
    "    C = {}\n",
    "    \n",
    "    # Set up asset movements\n",
    "    for m in range(0, N+1):\n",
    "            St = AssetP * (u**m) * (d**(N - m))\n",
    "            C[(N, m)] = max(b*(St - K), 0)\n",
    "\n",
    "    # Recursive setp\n",
    "    for k in range(N-1, -1, -1):\n",
    "        for m in range(0,k+1):\n",
    "            C[(k, m)] =  max( (b * (AssetP * (u**m) * (d ** (abs(m-k))) - K)),\\\n",
    "                              ((p * C[(k+1, m+1)] + (1-p) * C[(k+1, m)]) * dF))\n",
    "    return C[(0,0)]"
   ]
  },
  {
   "cell_type": "markdown",
   "metadata": {},
   "source": [
    "### Testing the output\n",
    "We're pricing options  with the following qualities:\n",
    "\n",
    "Stock price = $10 \n",
    "\n",
    "Strike = $10\n",
    "\n",
    "T = 1 (year)\n",
    "\n",
    "$r_c$ = 5%\n",
    "\n",
    "$\\sigma$ = 25%\n",
    "\n",
    "Dividend Yield = 0"
   ]
  },
  {
   "cell_type": "markdown",
   "metadata": {},
   "source": [
    "### Price equality\n",
    "\n",
    "First, notice how in this case, the European and American calls are priced the same regardless of the step"
   ]
  },
  {
   "cell_type": "code",
   "execution_count": 4,
   "metadata": {},
   "outputs": [
    {
     "name": "stdout",
     "output_type": "stream",
     "text": [
      "European call: 1.457 ----- American call: 1.457\n",
      "European call: 1.244 ----- American call: 1.244\n",
      "European call: 1.239 ----- American call: 1.239\n",
      "European call: 1.237 ----- American call: 1.237\n",
      "European call: 1.236 ----- American call: 1.236\n"
     ]
    }
   ],
   "source": [
    "for i in range(1, 101, 20):\n",
    "    e = binomialEuro(1, 10, 10, 1, 0.05, 0.25, i, 0,)\n",
    "    a = binomialAmerican(1, 10, 10, 1, 0.05, 0.25, i, 0,)\n",
    "    print(\"European call: %s ----- American call: %s\" %(round(e,3), round(a,3)))"
   ]
  },
  {
   "cell_type": "markdown",
   "metadata": {},
   "source": [
    "### European convergence\n",
    "We now show the convergence of European calls to the Black Scholes model"
   ]
  },
  {
   "cell_type": "code",
   "execution_count": 5,
   "metadata": {},
   "outputs": [
    {
     "data": {
      "image/png": "[encoded data removed]",
      "text/plain": [
       "<Figure size 432x288 with 1 Axes>"
      ]
     },
     "metadata": {
      "needs_background": "light"
     },
     "output_type": "display_data"
    }
   ],
   "source": [
    "x = []\n",
    "y = []\n",
    "for i in range(1, 101):\n",
    "    y.append(binomialEuro(1, 10, 10, 1, 0.05, 0.25, i, 0))\n",
    "    x.append(i)\n",
    "plt.title('Convergence for European Options')\n",
    "plt.xlabel('Number of steps')\n",
    "plt.ylabel('Option Price')\n",
    "plt.plot(x,y)\n",
    "plt.show()"
   ]
  },
  {
   "cell_type": "markdown",
   "metadata": {},
   "source": [
    "### Steps until convergence\n",
    "The graph above raises the question\n",
    "\n",
    "*How many steps do we need until we converge to have an error less than a penny?*\n",
    "\n",
    "**Note:** The Black-Scholes price for this option is 1.233599893"
   ]
  },
  {
   "cell_type": "code",
   "execution_count": 6,
   "metadata": {},
   "outputs": [
    {
     "name": "stdout",
     "output_type": "stream",
     "text": [
      "24\n"
     ]
    }
   ],
   "source": [
    "blackScholes = 1.233599893\n",
    "p = -1\n",
    "i = 1\n",
    "while not abs(p-blackScholes) < 0.01:\n",
    "    p = binomialEuro(1, 10, 10, 1, 0.05, 0.25, i, 0)\n",
    "    i +=1\n",
    "print(i)"
   ]
  },
  {
   "cell_type": "markdown",
   "metadata": {},
   "source": [
    "**Answer:** We only need 24 steps in the tree"
   ]
  },
  {
   "cell_type": "markdown",
   "metadata": {},
   "source": [
    "### Put price disparity\n",
    "Though the American and European call have similar prices, the same does not hold for puts, as shown graphically"
   ]
  },
  {
   "cell_type": "code",
   "execution_count": 7,
   "metadata": {},
   "outputs": [
    {
     "data": {
      "image/png": "[encoded data removed]",
      "text/plain": [
       "<Figure size 432x288 with 1 Axes>"
      ]
     },
     "metadata": {
      "needs_background": "light"
     },
     "output_type": "display_data"
    }
   ],
   "source": [
    "x = []\n",
    "y = []\n",
    "x1 = []\n",
    "y1 = []\n",
    "for i in range(1, 101):\n",
    "    y.append(binomialEuro(0, 10, 10, 1, 0.05, 0.25, i, 0))\n",
    "    x.append(i)\n",
    "for i in range(1, 101):\n",
    "    y1.append(binomialAmerican(0, 10, 10, 1, 0.05, 0.25, i, 0))\n",
    "    x1.append(i)\n",
    "plt.title('American vs European Put')\n",
    "plt.xlabel('Number of steps')\n",
    "plt.ylabel('Option Price')\n",
    "plt.plot(x,y, 'r')\n",
    "plt.plot(x1,y1)\n",
    "plt.legend(['European Put', 'American Put'])\n",
    "plt.show()"
   ]
  },
  {
   "cell_type": "markdown",
   "metadata": {},
   "source": [
    "### Steps until (American) put convergence\n",
    "Again, we can also ask\n",
    "\n",
    "*How long does it take for American puts to converge (the price\n",
    "change from an extra step is less than a single penny)?*"
   ]
  },
  {
   "cell_type": "code",
   "execution_count": 8,
   "metadata": {},
   "outputs": [
    {
     "name": "stdout",
     "output_type": "stream",
     "text": [
      "33\n"
     ]
    }
   ],
   "source": [
    "p0 = binomialAmerican(1, 10, 10, 1, 0.05, 0.25, 1, 0) \n",
    "p1 = binomialAmerican(1, 10, 10, 1, 0.05, 0.25, 2, 0) \n",
    "i = 3\n",
    "while not abs(p1 - p0) < 0.01:\n",
    "    p0 = p1\n",
    "    p1 = binomialAmerican(0, 10, 10, 1, 0.05, 0.25, i, 0) \n",
    "    i +=1\n",
    "print(i)"
   ]
  },
  {
   "cell_type": "markdown",
   "metadata": {},
   "source": [
    "**Answer:** 33 steps"
   ]
  },
  {
   "cell_type": "markdown",
   "metadata": {},
   "source": [
    "### Difference in the code for pricing\n",
    "\n",
    "*What causes this difference between American an European options?*\n",
    "\n",
    "The difference lies in the fact that American options can be executed at any time. This means that not only does the program need to find the price of the by option looking at different branches in the tree, it *also* needs to compare said price with the payout of executing the option at the given time. This can cause that situations where the option holder is better off executing the call before expiration. This is most clear with puts, since it is not optimal to execute an American call prior to expiraiton"
   ]
  },
  {
   "cell_type": "markdown",
   "metadata": {},
   "source": [
    "## Card Game "
   ]
  },
  {
   "cell_type": "markdown",
   "metadata": {},
   "source": [
    "### Code for card game"
   ]
  },
  {
   "cell_type": "code",
   "execution_count": 9,
   "metadata": {},
   "outputs": [],
   "source": [
    "def cardGame(cards, blackDrawn, redDrawn):\n",
    "    '''\n",
    "    Compute the expected payoff of the card game given the amount of cards and the number of cards drawn\n",
    "    Inputs:\n",
    "            cards      - The total number of cards in the deck; MUST BE AN EVEN NUMBER\n",
    "            blackDrawn - Number of black cards drawn thus far\n",
    "            redDrawn   - Number of red cards drawn thus far\n",
    "    Outputs:\n",
    "            Max between the expected payoff and the current winning given the number of red and black cards drawn\n",
    "    '''\n",
    "    red = int(cards/2)\n",
    "    black = int(cards/2)\n",
    "    # Valid argument checks\n",
    "    if cards % 2 != 0:\n",
    "        raise Exception(\"Uneven number of cards!\")\n",
    "    if blackDrawn > black or blackDrawn < 0:\n",
    "        raise Exception(\"Invalid number of drawn cards!\")\n",
    "    if redDrawn > red or redDrawn < 0:\n",
    "        raise Exception(\"Invalid number of drawn cards!\")\n",
    "\n",
    "    # Computation\n",
    "    payoff = {}\n",
    "    for b in range(black, -1, -1):\n",
    "        for r in range(red, -1, -1):\n",
    "            if b == black and r == red: # no payoff if you're out of cards\n",
    "                payoff[b, r] = 0\n",
    "            elif b == black: # you're out of black - pick a red\n",
    "                payoff[b,r] = max( (b-r), (b-r-1))\n",
    "            elif r == red: # you're out of red - pick a black\n",
    "                payoff[b,r] = max(0 , (b+1-r))\n",
    "            else:\n",
    "                cardsleft = cards - b - r\n",
    "                oddBlack = (black - b)/cardsleft\n",
    "                oddRed   = (red - r)/cardsleft\n",
    "                payoff[b,r] = max(0, (oddBlack*payoff[b+1,r] + oddRed*payoff[b,r+1]))\n",
    "    # Return item with specified number of cards drawn\n",
    "    return payoff[blackDrawn, redDrawn]"
   ]
  },
  {
   "cell_type": "markdown",
   "metadata": {},
   "source": [
    "### Testing the card game\n",
    "\n",
    "In this example we have a simple deck of 4 cards. 2 red, 2 black.\n",
    "\n",
    "We'd like to see what our payoff would be if we had drawn 1 red card thus far"
   ]
  },
  {
   "cell_type": "code",
   "execution_count": 10,
   "metadata": {},
   "outputs": [
    {
     "data": {
      "text/plain": [
       "0.3333333333333333"
      ]
     },
     "execution_count": 10,
     "metadata": {},
     "output_type": "execute_result"
    }
   ],
   "source": [
    "cardGame(4, 0,1)"
   ]
  },
  {
   "cell_type": "markdown",
   "metadata": {},
   "source": [
    "Notice how our current winning thus far would be -1, yet the payoff is $\\frac{1}{3}$. This is because at the worse case, our total payoff is 0 - yet we still have a chance for ending net positive if we draw black cards in the next turns\n",
    "\n",
    "We can see this because the payoff of drawing 1 black and 1 red is 0.5 (see below), and we have a $\\frac{2}{3}$ chance of this outcome of happening"
   ]
  },
  {
   "cell_type": "code",
   "execution_count": 11,
   "metadata": {},
   "outputs": [
    {
     "data": {
      "text/plain": [
       "0.5"
      ]
     },
     "execution_count": 11,
     "metadata": {},
     "output_type": "execute_result"
    }
   ],
   "source": [
    "cardGame(4,1,1)"
   ]
  }
 ],
 "metadata": {
  "kernelspec": {
   "display_name": "Python 3",
   "language": "python",
   "name": "python3"
  },
  "language_info": {
   "codemirror_mode": {
    "name": "ipython",
    "version": 3
   },
   "file_extension": ".py",
   "mimetype": "text/x-python",
   "name": "python",
   "nbconvert_exporter": "python",
   "pygments_lexer": "ipython3",
   "version": "3.8.5"
  }
 },
 "nbformat": 4,
 "nbformat_minor": 4
}
